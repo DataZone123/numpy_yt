{
  "nbformat": 4,
  "nbformat_minor": 0,
  "metadata": {
    "colab": {
      "provenance": [],
      "authorship_tag": "ABX9TyOheJry0cIXJeZ4D0swiE3k",
      "include_colab_link": true
    },
    "kernelspec": {
      "name": "python3",
      "display_name": "Python 3"
    },
    "language_info": {
      "name": "python"
    }
  },
  "cells": [
    {
      "cell_type": "markdown",
      "metadata": {
        "id": "view-in-github",
        "colab_type": "text"
      },
      "source": [
        "<a href=\"https://colab.research.google.com/github/DataZone123/numpy_yt/blob/main/Advanced_indexing.ipynb\" target=\"_parent\"><img src=\"https://colab.research.google.com/assets/colab-badge.svg\" alt=\"Open In Colab\"/></a>"
      ]
    },
    {
      "cell_type": "markdown",
      "source": [
        "### Numpy--->Advanced Indexing\n",
        "\n",
        "\n",
        "\n",
        "*   If we want to access multiple elements, which are not in order\n",
        "(arbitrary elements) of 1D,2D and N-D arrays we must use the concept of Advanced Indexing.\n",
        "*   If we want access the elements based on some condition  then we can't use basic indexing and Basic Slicing Operations. To fullfill such type of requirements we use advanced Indexing.\n"
      ],
      "metadata": {
        "id": "SfeksZgL_C5a"
      }
    },
    {
      "cell_type": "markdown",
      "source": [
        "## Accessing Multiple Arbitrary Elements ---1D :\n",
        "\n",
        " Syntax:-          ndarrayname [ x ]\n",
        "\n",
        "Here 'x' can be either ndarray or list which represents required indexes of arbitrary elements."
      ],
      "metadata": {
        "id": "1g6Ehhzwg2mj"
      }
    },
    {
      "cell_type": "code",
      "source": [
        "lst = [10,20,30,40,50,60,70,80,90]\n",
        "lst"
      ],
      "metadata": {
        "colab": {
          "base_uri": "https://localhost:8080/"
        },
        "id": "uvI6xPgDKx9B",
        "outputId": "7dda6bf4-bde6-40c9-9ed6-003b7e89dd5d"
      },
      "execution_count": 1,
      "outputs": [
        {
          "output_type": "execute_result",
          "data": {
            "text/plain": [
              "[10, 20, 30, 40, 50, 60, 70, 80, 90]"
            ]
          },
          "metadata": {},
          "execution_count": 1
        }
      ]
    },
    {
      "cell_type": "code",
      "source": [
        "import numpy as np\n",
        "a = np.array(lst)\n",
        "a"
      ],
      "metadata": {
        "colab": {
          "base_uri": "https://localhost:8080/"
        },
        "id": "L5Ws3KYaK3g5",
        "outputId": "1fcd6d7f-4af2-4efb-e985-36459941f1ba"
      },
      "execution_count": 3,
      "outputs": [
        {
          "output_type": "execute_result",
          "data": {
            "text/plain": [
              "array([10, 20, 30, 40, 50, 60, 70, 80, 90])"
            ]
          },
          "metadata": {},
          "execution_count": 3
        }
      ]
    },
    {
      "cell_type": "markdown",
      "source": [
        "here ww want to fetch only 10,30, and 80 elemnt from this array.\n",
        "\n",
        "so,we should know ther index of ther elemnt\n",
        "which are 0, 2,7"
      ],
      "metadata": {
        "id": "2PujBGY5K7g_"
      }
    },
    {
      "cell_type": "code",
      "source": [
        "lst = [0,2,7]"
      ],
      "metadata": {
        "id": "CW-npbI3L6S5"
      },
      "execution_count": 4,
      "outputs": []
    },
    {
      "cell_type": "code",
      "source": [
        "a[lst]"
      ],
      "metadata": {
        "colab": {
          "base_uri": "https://localhost:8080/"
        },
        "id": "Us11oHrQL8ox",
        "outputId": "490ad11c-f84d-4ca7-a868-913bc2bff6e5"
      },
      "execution_count": 5,
      "outputs": [
        {
          "output_type": "execute_result",
          "data": {
            "text/plain": [
              "array([10, 30, 80])"
            ]
          },
          "metadata": {},
          "execution_count": 5
        }
      ]
    },
    {
      "cell_type": "code",
      "source": [
        "a[[0,2,7]]"
      ],
      "metadata": {
        "colab": {
          "base_uri": "https://localhost:8080/"
        },
        "id": "eaWTL7sBL_If",
        "outputId": "99849d31-c2c9-413b-c1ca-28b1ce6a8b76"
      },
      "execution_count": 6,
      "outputs": [
        {
          "output_type": "execute_result",
          "data": {
            "text/plain": [
              "array([10, 30, 80])"
            ]
          },
          "metadata": {},
          "execution_count": 6
        }
      ]
    },
    {
      "cell_type": "code",
      "source": [
        "lst"
      ],
      "metadata": {
        "colab": {
          "base_uri": "https://localhost:8080/"
        },
        "id": "RzvBkIRwMChw",
        "outputId": "ed68f642-057a-4277-9c79-95c6b90cf0e9"
      },
      "execution_count": 7,
      "outputs": [
        {
          "output_type": "execute_result",
          "data": {
            "text/plain": [
              "[0, 2, 7]"
            ]
          },
          "metadata": {},
          "execution_count": 7
        }
      ]
    },
    {
      "cell_type": "code",
      "source": [
        "arr1 = np.array(lst)\n",
        "arr1"
      ],
      "metadata": {
        "colab": {
          "base_uri": "https://localhost:8080/"
        },
        "id": "8-PuoPrAMJxE",
        "outputId": "c6560a0e-bd15-43f4-92a0-fa88ae4b271f"
      },
      "execution_count": 8,
      "outputs": [
        {
          "output_type": "execute_result",
          "data": {
            "text/plain": [
              "array([0, 2, 7])"
            ]
          },
          "metadata": {},
          "execution_count": 8
        }
      ]
    },
    {
      "cell_type": "code",
      "source": [
        "a[arr1]"
      ],
      "metadata": {
        "colab": {
          "base_uri": "https://localhost:8080/"
        },
        "id": "0lyvTvqlMPHZ",
        "outputId": "203e454e-e051-49b1-dbd4-51ed26eccd50"
      },
      "execution_count": 9,
      "outputs": [
        {
          "output_type": "execute_result",
          "data": {
            "text/plain": [
              "array([10, 30, 80])"
            ]
          },
          "metadata": {},
          "execution_count": 9
        }
      ]
    },
    {
      "cell_type": "markdown",
      "source": [
        "## Accessing Multiple Arbitrary Elements ---2D :\n",
        "\n",
        " Syntax:-          ndarrayname [ [row indexes],[column indexes] ]\n",
        "\n"
      ],
      "metadata": {
        "id": "FdWAwFqhMRsX"
      }
    },
    {
      "cell_type": "code",
      "source": [
        "import numpy as np\n",
        "\n",
        "arr2d = np.array([[1,2,3,4],[5,6,7,8],[9,10,11,12],[13,14,15,16]])\n",
        "arr2d"
      ],
      "metadata": {
        "colab": {
          "base_uri": "https://localhost:8080/"
        },
        "id": "3olMTS2dMeMx",
        "outputId": "70f15db6-41a9-4ce9-e31d-ca1e90b59695"
      },
      "execution_count": 11,
      "outputs": [
        {
          "output_type": "execute_result",
          "data": {
            "text/plain": [
              "array([[ 1,  2,  3,  4],\n",
              "       [ 5,  6,  7,  8],\n",
              "       [ 9, 10, 11, 12],\n",
              "       [13, 14, 15, 16]])"
            ]
          },
          "metadata": {},
          "execution_count": 11
        }
      ]
    },
    {
      "cell_type": "code",
      "source": [
        "arr2d.ndim"
      ],
      "metadata": {
        "colab": {
          "base_uri": "https://localhost:8080/"
        },
        "id": "rTjxtp7YM92h",
        "outputId": "2bd40337-836b-434b-b05c-86d6e3f0621d"
      },
      "execution_count": 12,
      "outputs": [
        {
          "output_type": "execute_result",
          "data": {
            "text/plain": [
              "2"
            ]
          },
          "metadata": {},
          "execution_count": 12
        }
      ]
    },
    {
      "cell_type": "code",
      "source": [
        "arr2d.shape"
      ],
      "metadata": {
        "colab": {
          "base_uri": "https://localhost:8080/"
        },
        "id": "sZtUFqQIM_16",
        "outputId": "58779af2-5f8d-4515-faa2-c5196f237bef"
      },
      "execution_count": 13,
      "outputs": [
        {
          "output_type": "execute_result",
          "data": {
            "text/plain": [
              "(4, 4)"
            ]
          },
          "metadata": {},
          "execution_count": 13
        }
      ]
    },
    {
      "cell_type": "markdown",
      "source": [
        "Q:-Access principal diagonal elemnts (1,6,11,16)"
      ],
      "metadata": {
        "id": "eBW1EFGlNBxi"
      }
    },
    {
      "cell_type": "code",
      "source": [
        "arr2d[[0,1,2,3],[0,1,2,3]]"
      ],
      "metadata": {
        "colab": {
          "base_uri": "https://localhost:8080/"
        },
        "id": "_1zz74cANbVm",
        "outputId": "73638068-1868-4ce8-880c-d44b3622f783"
      },
      "execution_count": 14,
      "outputs": [
        {
          "output_type": "execute_result",
          "data": {
            "text/plain": [
              "array([ 1,  6, 11, 16])"
            ]
          },
          "metadata": {},
          "execution_count": 14
        }
      ]
    },
    {
      "cell_type": "code",
      "source": [
        "arr2d[[1,3],[0,2]]"
      ],
      "metadata": {
        "colab": {
          "base_uri": "https://localhost:8080/"
        },
        "id": "hzRk4iDcN2TN",
        "outputId": "cb346d79-52f6-46f3-ca26-60b1da220b11"
      },
      "execution_count": 15,
      "outputs": [
        {
          "output_type": "execute_result",
          "data": {
            "text/plain": [
              "array([ 5, 15])"
            ]
          },
          "metadata": {},
          "execution_count": 15
        }
      ]
    },
    {
      "cell_type": "markdown",
      "source": [
        "## Accessing Multiple Arbitrary Elements ---3D :\n",
        "\n",
        " Syntax:-          ndarrayname [ [Index of 2dmatrix],[row indexes],[column indexes] ]\n",
        "\n"
      ],
      "metadata": {
        "id": "0LQCguBlOaLQ"
      }
    },
    {
      "cell_type": "code",
      "source": [
        "import numpy as np\n",
        "l1 =[[[1,2,3,4],[5,6,7,8],[9,10,11,12]],[[13,14,15,16],[17,18,19,20],[21,22,23,24]]]\n",
        "arr3d = np.array(l1)\n",
        "arr3d"
      ],
      "metadata": {
        "colab": {
          "base_uri": "https://localhost:8080/"
        },
        "id": "vlPk8pYeOyhG",
        "outputId": "f07f966f-d115-4854-9f76-bd1b1bc0c9f6"
      },
      "execution_count": 16,
      "outputs": [
        {
          "output_type": "execute_result",
          "data": {
            "text/plain": [
              "array([[[ 1,  2,  3,  4],\n",
              "        [ 5,  6,  7,  8],\n",
              "        [ 9, 10, 11, 12]],\n",
              "\n",
              "       [[13, 14, 15, 16],\n",
              "        [17, 18, 19, 20],\n",
              "        [21, 22, 23, 24]]])"
            ]
          },
          "metadata": {},
          "execution_count": 16
        }
      ]
    },
    {
      "cell_type": "code",
      "source": [
        "arr3d.ndim"
      ],
      "metadata": {
        "colab": {
          "base_uri": "https://localhost:8080/"
        },
        "id": "nnXnIfBRPNyz",
        "outputId": "2e45695f-7f15-448e-ec79-2e9d0e414854"
      },
      "execution_count": 17,
      "outputs": [
        {
          "output_type": "execute_result",
          "data": {
            "text/plain": [
              "3"
            ]
          },
          "metadata": {},
          "execution_count": 17
        }
      ]
    },
    {
      "cell_type": "code",
      "source": [
        "arr3d.shape"
      ],
      "metadata": {
        "colab": {
          "base_uri": "https://localhost:8080/"
        },
        "id": "9lqVPlyGPPwu",
        "outputId": "45997dec-c208-4edc-d146-e4fa08aee81d"
      },
      "execution_count": 18,
      "outputs": [
        {
          "output_type": "execute_result",
          "data": {
            "text/plain": [
              "(2, 3, 4)"
            ]
          },
          "metadata": {},
          "execution_count": 18
        }
      ]
    },
    {
      "cell_type": "markdown",
      "source": [
        "Q:- aceess elements 1,14,24"
      ],
      "metadata": {
        "id": "K_i_QSJjPR32"
      }
    },
    {
      "cell_type": "code",
      "source": [
        "arr3d[[0,1,1],[0,0,2],[0,1,3]]"
      ],
      "metadata": {
        "colab": {
          "base_uri": "https://localhost:8080/"
        },
        "id": "jgoNGNDDP3NE",
        "outputId": "d0868813-a769-45c2-f322-f94bd3751cd0"
      },
      "execution_count": 19,
      "outputs": [
        {
          "output_type": "execute_result",
          "data": {
            "text/plain": [
              "array([ 1, 14, 24])"
            ]
          },
          "metadata": {},
          "execution_count": 19
        }
      ]
    },
    {
      "cell_type": "code",
      "source": [
        "\n",
        "x = (0,1,1)\n",
        "y = (0,0,2)\n",
        "z = (0,1,3)\n",
        "\n",
        "arr3d[x,y,z]"
      ],
      "metadata": {
        "colab": {
          "base_uri": "https://localhost:8080/"
        },
        "id": "YjIUVjwkQfgE",
        "outputId": "388694c0-98fb-41f5-ba07-fc21b73c2782"
      },
      "execution_count": 25,
      "outputs": [
        {
          "output_type": "execute_result",
          "data": {
            "text/plain": [
              "array([ 1, 14, 24])"
            ]
          },
          "metadata": {},
          "execution_count": 25
        }
      ]
    },
    {
      "cell_type": "markdown",
      "source": [
        "Q:- access elemnts 10,22\n"
      ],
      "metadata": {
        "id": "hvdV_KjiQu1N"
      }
    },
    {
      "cell_type": "code",
      "source": [
        "arr3d[[0,1],[2,2],[1,1]]"
      ],
      "metadata": {
        "colab": {
          "base_uri": "https://localhost:8080/"
        },
        "id": "zES7z4FIRQBV",
        "outputId": "cfab59fe-85c8-46bd-d7ff-1262dfa24f41"
      },
      "execution_count": 26,
      "outputs": [
        {
          "output_type": "execute_result",
          "data": {
            "text/plain": [
              "array([10, 22])"
            ]
          },
          "metadata": {},
          "execution_count": 26
        }
      ]
    },
    {
      "cell_type": "markdown",
      "source": [
        "## Accessing Multiple Arbitrary Elements ---4D :\n",
        "\n"
      ],
      "metadata": {
        "id": "ltVouMeqRrSl"
      }
    },
    {
      "cell_type": "code",
      "source": [
        "a = np.array([10,20,30,40,50,60,70,80,15,25,35,45,55,65,75,85])\n",
        "a"
      ],
      "metadata": {
        "colab": {
          "base_uri": "https://localhost:8080/"
        },
        "id": "Dn_A6zLKR6-L",
        "outputId": "467691e0-e51e-4cc8-8b61-415e2e05013b"
      },
      "execution_count": 27,
      "outputs": [
        {
          "output_type": "execute_result",
          "data": {
            "text/plain": [
              "array([10, 20, 30, 40, 50, 60, 70, 80, 15, 25, 35, 45, 55, 65, 75, 85])"
            ]
          },
          "metadata": {},
          "execution_count": 27
        }
      ]
    },
    {
      "cell_type": "code",
      "source": [
        "a.ndim"
      ],
      "metadata": {
        "colab": {
          "base_uri": "https://localhost:8080/"
        },
        "id": "sxW3LHj0SEk5",
        "outputId": "3ba5d0d9-c45d-46c1-9b7e-5634e0a38724"
      },
      "execution_count": 28,
      "outputs": [
        {
          "output_type": "execute_result",
          "data": {
            "text/plain": [
              "1"
            ]
          },
          "metadata": {},
          "execution_count": 28
        }
      ]
    },
    {
      "cell_type": "code",
      "source": [
        "a.shape"
      ],
      "metadata": {
        "colab": {
          "base_uri": "https://localhost:8080/"
        },
        "id": "IR3tgEs4SGMS",
        "outputId": "7e4ae78f-c743-481c-b08d-27de3bd4052d"
      },
      "execution_count": 29,
      "outputs": [
        {
          "output_type": "execute_result",
          "data": {
            "text/plain": [
              "(16,)"
            ]
          },
          "metadata": {},
          "execution_count": 29
        }
      ]
    },
    {
      "cell_type": "code",
      "source": [
        "a.shape = (2,2,2,2)"
      ],
      "metadata": {
        "id": "u03A7SvfSIDK"
      },
      "execution_count": 30,
      "outputs": []
    },
    {
      "cell_type": "code",
      "source": [
        "a"
      ],
      "metadata": {
        "colab": {
          "base_uri": "https://localhost:8080/"
        },
        "id": "4H6VBkxhSQti",
        "outputId": "cce046bd-ec32-48c6-ac85-a1ba50474bf0"
      },
      "execution_count": 31,
      "outputs": [
        {
          "output_type": "execute_result",
          "data": {
            "text/plain": [
              "array([[[[10, 20],\n",
              "         [30, 40]],\n",
              "\n",
              "        [[50, 60],\n",
              "         [70, 80]]],\n",
              "\n",
              "\n",
              "       [[[15, 25],\n",
              "         [35, 45]],\n",
              "\n",
              "        [[55, 65],\n",
              "         [75, 85]]]])"
            ]
          },
          "metadata": {},
          "execution_count": 31
        }
      ]
    },
    {
      "cell_type": "code",
      "source": [
        "a.ndim"
      ],
      "metadata": {
        "colab": {
          "base_uri": "https://localhost:8080/"
        },
        "id": "dH-CUrYTSUDC",
        "outputId": "ee79275f-1e1e-4e4f-ccbb-dc6cc756b102"
      },
      "execution_count": 32,
      "outputs": [
        {
          "output_type": "execute_result",
          "data": {
            "text/plain": [
              "4"
            ]
          },
          "metadata": {},
          "execution_count": 32
        }
      ]
    },
    {
      "cell_type": "code",
      "source": [
        "a.shape"
      ],
      "metadata": {
        "colab": {
          "base_uri": "https://localhost:8080/"
        },
        "id": "jZHjI1dlSW74",
        "outputId": "fd979d88-50a2-4f18-d7b3-f55006a2460f"
      },
      "execution_count": 33,
      "outputs": [
        {
          "output_type": "execute_result",
          "data": {
            "text/plain": [
              "(2, 2, 2, 2)"
            ]
          },
          "metadata": {},
          "execution_count": 33
        }
      ]
    },
    {
      "cell_type": "code",
      "source": [
        "a[0][0][0][0]"
      ],
      "metadata": {
        "colab": {
          "base_uri": "https://localhost:8080/"
        },
        "id": "OqG6qtfmSZah",
        "outputId": "92ff44a6-5903-47f2-878a-48e794a4f0cc"
      },
      "execution_count": 34,
      "outputs": [
        {
          "output_type": "execute_result",
          "data": {
            "text/plain": [
              "10"
            ]
          },
          "metadata": {},
          "execution_count": 34
        }
      ]
    },
    {
      "cell_type": "code",
      "source": [
        "a[[0,1],[0,0],[0,1],[0,1]]"
      ],
      "metadata": {
        "colab": {
          "base_uri": "https://localhost:8080/"
        },
        "id": "2a_Y_eWETJka",
        "outputId": "1158711a-232d-400b-9881-bda2e510f44d"
      },
      "execution_count": 35,
      "outputs": [
        {
          "output_type": "execute_result",
          "data": {
            "text/plain": [
              "array([10, 45])"
            ]
          },
          "metadata": {},
          "execution_count": 35
        }
      ]
    },
    {
      "cell_type": "markdown",
      "source": [
        "Q: aceess 60,65,15 and 25?\n"
      ],
      "metadata": {
        "id": "8r28hU_jTpeB"
      }
    },
    {
      "cell_type": "code",
      "source": [],
      "metadata": {
        "id": "KOfj8ueCTx4B"
      },
      "execution_count": null,
      "outputs": []
    }
  ]
}