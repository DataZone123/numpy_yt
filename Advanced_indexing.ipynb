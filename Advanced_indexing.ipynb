{
  "nbformat": 4,
  "nbformat_minor": 0,
  "metadata": {
    "colab": {
      "provenance": [],
      "authorship_tag": "ABX9TyOYnZ+VydqvVlQxeA1ArrqX",
      "include_colab_link": true
    },
    "kernelspec": {
      "name": "python3",
      "display_name": "Python 3"
    },
    "language_info": {
      "name": "python"
    }
  },
  "cells": [
    {
      "cell_type": "markdown",
      "metadata": {
        "id": "view-in-github",
        "colab_type": "text"
      },
      "source": [
        "<a href=\"https://colab.research.google.com/github/DataZone123/numpy_yt/blob/main/Advanced_indexing.ipynb\" target=\"_parent\"><img src=\"https://colab.research.google.com/assets/colab-badge.svg\" alt=\"Open In Colab\"/></a>"
      ]
    },
    {
      "cell_type": "markdown",
      "source": [
        "### Numpy--->Advanced Indexing\n",
        "\n",
        "\n",
        "\n",
        "*   If we want to access multiple elements, which are not in order\n",
        "(arbitrary elements) of 1D,2D and N-D arrays we must use the concept of Advanced Indexing.\n",
        "*   If we want access the elements based on some condition  then we can't use basic indexing and Basic Slicing Operations. To fullfill such type of requirements we use advanced Indexing.\n"
      ],
      "metadata": {
        "id": "SfeksZgL_C5a"
      }
    },
    {
      "cell_type": "markdown",
      "source": [
        "## Accessing Multiple Arbitrary Elements ---1D :\n",
        "\n",
        " Syntax:-          ndarrayname [ x ]\n",
        "\n",
        "Here 'x' can be either ndarray or list which represents required indexes of arbitrary elements."
      ],
      "metadata": {
        "id": "1g6Ehhzwg2mj"
      }
    },
    {
      "cell_type": "code",
      "source": [
        "lst =[10,20,30,30,40,50,60,70,80]\n",
        "lst"
      ],
      "metadata": {
        "colab": {
          "base_uri": "https://localhost:8080/"
        },
        "id": "ZH_yztEnhHMq",
        "outputId": "6a259d7a-5803-40c7-8cc4-eeda2b3c89a2"
      },
      "execution_count": 1,
      "outputs": [
        {
          "output_type": "execute_result",
          "data": {
            "text/plain": [
              "[10, 20, 30, 30, 40, 50, 60, 70, 80]"
            ]
          },
          "metadata": {},
          "execution_count": 1
        }
      ]
    },
    {
      "cell_type": "code",
      "source": [
        "import numpy as np\n",
        "a = np.array(lst)"
      ],
      "metadata": {
        "id": "cazHdYsPi-lB"
      },
      "execution_count": 2,
      "outputs": []
    },
    {
      "cell_type": "code",
      "source": [
        "a"
      ],
      "metadata": {
        "colab": {
          "base_uri": "https://localhost:8080/"
        },
        "id": "AEdFNB1rjJYc",
        "outputId": "1d0d9806-c968-49f8-f787-5bfce884013b"
      },
      "execution_count": 3,
      "outputs": [
        {
          "output_type": "execute_result",
          "data": {
            "text/plain": [
              "array([10, 20, 30, 30, 40, 50, 60, 70, 80])"
            ]
          },
          "metadata": {},
          "execution_count": 3
        }
      ]
    },
    {
      "cell_type": "markdown",
      "source": [
        "requirement are 10,30,60\n",
        "\n",
        "we will check the index of above elements\n",
        "\n",
        "which are 0,2 and 6"
      ],
      "metadata": {
        "id": "Al8N23fXkoGj"
      }
    },
    {
      "cell_type": "code",
      "source": [
        "ind =[0,2,6]"
      ],
      "metadata": {
        "id": "N_qyHiinjKBq"
      },
      "execution_count": 8,
      "outputs": []
    },
    {
      "cell_type": "code",
      "source": [
        "ind"
      ],
      "metadata": {
        "colab": {
          "base_uri": "https://localhost:8080/"
        },
        "id": "xMjhV2hijyLS",
        "outputId": "e36ffc44-b2d9-41c5-cde4-8c527c329598"
      },
      "execution_count": 5,
      "outputs": [
        {
          "output_type": "execute_result",
          "data": {
            "text/plain": [
              "[0, 2, 6]"
            ]
          },
          "metadata": {},
          "execution_count": 5
        }
      ]
    },
    {
      "cell_type": "code",
      "source": [
        "indexes = np.array(ind)\n",
        "indexes"
      ],
      "metadata": {
        "colab": {
          "base_uri": "https://localhost:8080/"
        },
        "id": "Z_mFHcECj2sU",
        "outputId": "2994c11a-d6c7-402d-d825-275fc570624f"
      },
      "execution_count": 6,
      "outputs": [
        {
          "output_type": "execute_result",
          "data": {
            "text/plain": [
              "array([0, 2, 6])"
            ]
          },
          "metadata": {},
          "execution_count": 6
        }
      ]
    },
    {
      "cell_type": "code",
      "source": [
        "a[indexes]"
      ],
      "metadata": {
        "colab": {
          "base_uri": "https://localhost:8080/"
        },
        "id": "deU7sQiEkCXV",
        "outputId": "18fd8dbe-4426-4eb6-82ac-984ee867d11b"
      },
      "execution_count": 7,
      "outputs": [
        {
          "output_type": "execute_result",
          "data": {
            "text/plain": [
              "array([10, 30, 60])"
            ]
          },
          "metadata": {},
          "execution_count": 7
        }
      ]
    },
    {
      "cell_type": "code",
      "source": [
        "a[0,2,6]"
      ],
      "metadata": {
        "colab": {
          "base_uri": "https://localhost:8080/",
          "height": 177
        },
        "id": "MatUe1DvkJdC",
        "outputId": "9fe6104f-6175-4dc8-f486-3760ef5e50d3"
      },
      "execution_count": 10,
      "outputs": [
        {
          "output_type": "error",
          "ename": "IndexError",
          "evalue": "too many indices for array: array is 1-dimensional, but 3 were indexed",
          "traceback": [
            "\u001b[0;31m---------------------------------------------------------------------------\u001b[0m",
            "\u001b[0;31mIndexError\u001b[0m                                Traceback (most recent call last)",
            "\u001b[0;32m<ipython-input-10-83446ebfd075>\u001b[0m in \u001b[0;36m<cell line: 1>\u001b[0;34m()\u001b[0m\n\u001b[0;32m----> 1\u001b[0;31m \u001b[0ma\u001b[0m\u001b[0;34m[\u001b[0m\u001b[0;36m0\u001b[0m\u001b[0;34m,\u001b[0m\u001b[0;36m2\u001b[0m\u001b[0;34m,\u001b[0m\u001b[0;36m6\u001b[0m\u001b[0;34m]\u001b[0m\u001b[0;34m\u001b[0m\u001b[0;34m\u001b[0m\u001b[0m\n\u001b[0m",
            "\u001b[0;31mIndexError\u001b[0m: too many indices for array: array is 1-dimensional, but 3 were indexed"
          ]
        }
      ]
    },
    {
      "cell_type": "code",
      "source": [
        "a[ind]"
      ],
      "metadata": {
        "colab": {
          "base_uri": "https://localhost:8080/"
        },
        "id": "SZc7OwM1kdgR",
        "outputId": "1bcb3d98-8c4e-4e6e-97fb-1effa9d11ed1"
      },
      "execution_count": 11,
      "outputs": [
        {
          "output_type": "execute_result",
          "data": {
            "text/plain": [
              "array([10, 30, 60])"
            ]
          },
          "metadata": {},
          "execution_count": 11
        }
      ]
    },
    {
      "cell_type": "markdown",
      "source": [
        "## Accessing Multiple Arbitrary Elements ---2D :\n",
        "\n",
        " Syntax:-          ndarrayname [ [row indexes],[column indesxes]]\n",
        "\n"
      ],
      "metadata": {
        "id": "-axDbN5ylHVc"
      }
    },
    {
      "cell_type": "code",
      "source": [
        "import numpy as np\n",
        "\n",
        "b = np.array([[1,2,3,4],[5,6,7,8],[9,10,11,12],[13,14,15,16]])\n",
        "b"
      ],
      "metadata": {
        "colab": {
          "base_uri": "https://localhost:8080/"
        },
        "id": "hDkdU3U3leW2",
        "outputId": "aac10f71-a8c8-4867-bcec-79c924059682"
      },
      "execution_count": 13,
      "outputs": [
        {
          "output_type": "execute_result",
          "data": {
            "text/plain": [
              "array([[ 1,  2,  3,  4],\n",
              "       [ 5,  6,  7,  8],\n",
              "       [ 9, 10, 11, 12],\n",
              "       [13, 14, 15, 16]])"
            ]
          },
          "metadata": {},
          "execution_count": 13
        }
      ]
    },
    {
      "cell_type": "markdown",
      "source": [
        "Q1 --> access the principal diagonal elements(1,6,11,16)"
      ],
      "metadata": {
        "id": "9aSV1HU4l1CJ"
      }
    },
    {
      "cell_type": "code",
      "source": [
        "b[ [0,1,2,3],[0,1,2,3]]"
      ],
      "metadata": {
        "colab": {
          "base_uri": "https://localhost:8080/"
        },
        "id": "cu4QEeE7mJrt",
        "outputId": "7293b33a-977b-42df-e99c-cf73b837e134"
      },
      "execution_count": 15,
      "outputs": [
        {
          "output_type": "execute_result",
          "data": {
            "text/plain": [
              "array([ 1,  6, 11, 16])"
            ]
          },
          "metadata": {},
          "execution_count": 15
        }
      ]
    },
    {
      "cell_type": "markdown",
      "source": [
        "=> When the abobe statement is executed ,The PVM takes internally as\n",
        "b[(0,0),(1,1),(2,2),(3,3)]"
      ],
      "metadata": {
        "id": "qtCMWPzLnHQE"
      }
    },
    {
      "cell_type": "markdown",
      "source": [
        "Q2:- acces the elemnts 7,15?\n"
      ],
      "metadata": {
        "id": "yvOv1F_am3oX"
      }
    },
    {
      "cell_type": "code",
      "source": [
        "b[[1,3],[2,2]]"
      ],
      "metadata": {
        "colab": {
          "base_uri": "https://localhost:8080/"
        },
        "id": "I_QHUAJYnoBK",
        "outputId": "87f73406-c472-48d9-ed46-572eeb032d35"
      },
      "execution_count": 16,
      "outputs": [
        {
          "output_type": "execute_result",
          "data": {
            "text/plain": [
              "array([ 7, 15])"
            ]
          },
          "metadata": {},
          "execution_count": 16
        }
      ]
    },
    {
      "cell_type": "markdown",
      "source": [
        "## Accessing Multiple Arbitrary Elements ---3D :\n",
        "\n",
        " Syntax:-     ndarrayname [[Indexes of 2d matrix], [row indexes],[column indesxes]]"
      ],
      "metadata": {
        "id": "74FlM2naoGjz"
      }
    },
    {
      "cell_type": "code",
      "source": [
        "l1 = [[[1,2,3,4],[5,6,7,8],[9,10,11,12]],[[13,14,15,16],[17,18,19,20],[21,22,23,24]]]"
      ],
      "metadata": {
        "id": "Tq99n5hPoRfF"
      },
      "execution_count": 18,
      "outputs": []
    },
    {
      "cell_type": "code",
      "source": [
        "l1"
      ],
      "metadata": {
        "colab": {
          "base_uri": "https://localhost:8080/"
        },
        "id": "TooPBAi6o4Wo",
        "outputId": "fc6d38f8-6c94-4a7e-a7ae-8e76e66cb6ba"
      },
      "execution_count": 19,
      "outputs": [
        {
          "output_type": "execute_result",
          "data": {
            "text/plain": [
              "[[[1, 2, 3, 4], [5, 6, 7, 8], [9, 10, 11, 12]],\n",
              " [[13, 14, 15, 16], [17, 18, 19, 20], [21, 22, 23, 24]]]"
            ]
          },
          "metadata": {},
          "execution_count": 19
        }
      ]
    },
    {
      "cell_type": "code",
      "source": [
        "mat3d = np.array(l1)"
      ],
      "metadata": {
        "id": "o8SjbImTo-HM"
      },
      "execution_count": 21,
      "outputs": []
    },
    {
      "cell_type": "code",
      "source": [
        "mat3d"
      ],
      "metadata": {
        "colab": {
          "base_uri": "https://localhost:8080/"
        },
        "id": "6ZythxYQpKF9",
        "outputId": "be31b65a-0f81-4d4f-f3e6-0c7e8d2c2475"
      },
      "execution_count": 22,
      "outputs": [
        {
          "output_type": "execute_result",
          "data": {
            "text/plain": [
              "array([[[ 1,  2,  3,  4],\n",
              "        [ 5,  6,  7,  8],\n",
              "        [ 9, 10, 11, 12]],\n",
              "\n",
              "       [[13, 14, 15, 16],\n",
              "        [17, 18, 19, 20],\n",
              "        [21, 22, 23, 24]]])"
            ]
          },
          "metadata": {},
          "execution_count": 22
        }
      ]
    },
    {
      "cell_type": "code",
      "source": [
        "mat3d.ndim"
      ],
      "metadata": {
        "colab": {
          "base_uri": "https://localhost:8080/"
        },
        "id": "1svE7YpEpQoJ",
        "outputId": "fc975807-8194-450d-88d3-68d06892179c"
      },
      "execution_count": 24,
      "outputs": [
        {
          "output_type": "execute_result",
          "data": {
            "text/plain": [
              "3"
            ]
          },
          "metadata": {},
          "execution_count": 24
        }
      ]
    },
    {
      "cell_type": "code",
      "source": [
        "mat3d.shape"
      ],
      "metadata": {
        "colab": {
          "base_uri": "https://localhost:8080/"
        },
        "id": "aSeS1eCrpSic",
        "outputId": "b794a7e3-fa7a-4b2d-f1e4-52b790eac807"
      },
      "execution_count": 25,
      "outputs": [
        {
          "output_type": "execute_result",
          "data": {
            "text/plain": [
              "(2, 3, 4)"
            ]
          },
          "metadata": {},
          "execution_count": 25
        }
      ]
    },
    {
      "cell_type": "markdown",
      "source": [
        "Q:- access elemnts 1,14,24"
      ],
      "metadata": {
        "id": "-Jp0pWX3pW8e"
      }
    },
    {
      "cell_type": "code",
      "source": [
        "mat3d[[0,1,1],[0,0,2],[0,1,3]]"
      ],
      "metadata": {
        "colab": {
          "base_uri": "https://localhost:8080/"
        },
        "id": "T7i9IsW_p7eQ",
        "outputId": "4a442ef1-496d-436b-c311-cdcc4cf8b121"
      },
      "execution_count": 26,
      "outputs": [
        {
          "output_type": "execute_result",
          "data": {
            "text/plain": [
              "array([ 1, 14, 24])"
            ]
          },
          "metadata": {},
          "execution_count": 26
        }
      ]
    },
    {
      "cell_type": "markdown",
      "source": [
        "Q:- acess elements 11,23?"
      ],
      "metadata": {
        "id": "dEa-bXELqw31"
      }
    },
    {
      "cell_type": "code",
      "source": [
        "mat3d[[0,1],[2,2],[2,2]]"
      ],
      "metadata": {
        "colab": {
          "base_uri": "https://localhost:8080/"
        },
        "id": "VVaht3Xjrjaz",
        "outputId": "126166d1-a16d-425d-fc87-62034d155613"
      },
      "execution_count": 27,
      "outputs": [
        {
          "output_type": "execute_result",
          "data": {
            "text/plain": [
              "array([11, 23])"
            ]
          },
          "metadata": {},
          "execution_count": 27
        }
      ]
    },
    {
      "cell_type": "code",
      "source": [
        "matind = (0,1)\n",
        "rowind = (2,2)\n",
        "colind =(2,2)"
      ],
      "metadata": {
        "id": "TvvwqIskr4U4"
      },
      "execution_count": 28,
      "outputs": []
    },
    {
      "cell_type": "code",
      "source": [
        "mat3d[matind,rowind,colind]"
      ],
      "metadata": {
        "colab": {
          "base_uri": "https://localhost:8080/"
        },
        "id": "Pv_9v_GLsJyj",
        "outputId": "6d6a7528-c556-4b1b-9003-861b5ee09f25"
      },
      "execution_count": 29,
      "outputs": [
        {
          "output_type": "execute_result",
          "data": {
            "text/plain": [
              "array([11, 23])"
            ]
          },
          "metadata": {},
          "execution_count": 29
        }
      ]
    },
    {
      "cell_type": "markdown",
      "source": [
        "## 4d Array"
      ],
      "metadata": {
        "id": "cjO-4jtcsPdg"
      }
    },
    {
      "cell_type": "code",
      "source": [
        "a = np.array([10,20,30,40,50,60,70,80,15,25,35,45,55,65,75,85])\n",
        "a.shape"
      ],
      "metadata": {
        "colab": {
          "base_uri": "https://localhost:8080/"
        },
        "id": "AaBlKqX9sfek",
        "outputId": "1aa36d55-bf5f-4881-e099-c4b9c086a946"
      },
      "execution_count": 35,
      "outputs": [
        {
          "output_type": "execute_result",
          "data": {
            "text/plain": [
              "(16,)"
            ]
          },
          "metadata": {},
          "execution_count": 35
        }
      ]
    },
    {
      "cell_type": "code",
      "source": [
        "a.shape =(2,2,2,2)"
      ],
      "metadata": {
        "id": "GMRqZ2hsspHE"
      },
      "execution_count": 36,
      "outputs": []
    },
    {
      "cell_type": "code",
      "source": [
        "a"
      ],
      "metadata": {
        "colab": {
          "base_uri": "https://localhost:8080/"
        },
        "id": "Ww3_D1PwstAI",
        "outputId": "1d859f62-da9e-4361-c09c-4463bc1a9c01"
      },
      "execution_count": 37,
      "outputs": [
        {
          "output_type": "execute_result",
          "data": {
            "text/plain": [
              "array([[[[10, 20],\n",
              "         [30, 40]],\n",
              "\n",
              "        [[50, 60],\n",
              "         [70, 80]]],\n",
              "\n",
              "\n",
              "       [[[15, 25],\n",
              "         [35, 45]],\n",
              "\n",
              "        [[55, 65],\n",
              "         [75, 85]]]])"
            ]
          },
          "metadata": {},
          "execution_count": 37
        }
      ]
    },
    {
      "cell_type": "code",
      "source": [
        "a.ndim"
      ],
      "metadata": {
        "colab": {
          "base_uri": "https://localhost:8080/"
        },
        "id": "ycUOD-LIstui",
        "outputId": "57dc59ec-5170-49d9-ff6d-219b581f23b3"
      },
      "execution_count": 39,
      "outputs": [
        {
          "output_type": "execute_result",
          "data": {
            "text/plain": [
              "4"
            ]
          },
          "metadata": {},
          "execution_count": 39
        }
      ]
    },
    {
      "cell_type": "code",
      "source": [
        "a[0][0][0][0]"
      ],
      "metadata": {
        "colab": {
          "base_uri": "https://localhost:8080/"
        },
        "id": "LNaKkf0jsvdZ",
        "outputId": "5c42e8b2-029f-4a9e-8977-251ee3a87933"
      },
      "execution_count": 40,
      "outputs": [
        {
          "output_type": "execute_result",
          "data": {
            "text/plain": [
              "10"
            ]
          },
          "metadata": {},
          "execution_count": 40
        }
      ]
    },
    {
      "cell_type": "markdown",
      "source": [
        "access 10 and 40?"
      ],
      "metadata": {
        "id": "SBhq6SzrtBMy"
      }
    },
    {
      "cell_type": "code",
      "source": [
        "a[[0,0],[0,0],[0,1],[0,1]]"
      ],
      "metadata": {
        "colab": {
          "base_uri": "https://localhost:8080/"
        },
        "id": "x_ysSddxt4n-",
        "outputId": "280a5416-0c58-4839-efa4-c98c0350c028"
      },
      "execution_count": 41,
      "outputs": [
        {
          "output_type": "execute_result",
          "data": {
            "text/plain": [
              "array([10, 40])"
            ]
          },
          "metadata": {},
          "execution_count": 41
        }
      ]
    },
    {
      "cell_type": "markdown",
      "source": [
        "Q:access 60,55 and 15  from a?"
      ],
      "metadata": {
        "id": "uUCnmwcbuEpm"
      }
    }
  ]
}