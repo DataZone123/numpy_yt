{
  "nbformat": 4,
  "nbformat_minor": 0,
  "metadata": {
    "colab": {
      "provenance": []
    },
    "kernelspec": {
      "name": "python3",
      "display_name": "Python 3"
    },
    "language_info": {
      "name": "python"
    }
  },
  "cells": [
    {
      "cell_type": "markdown",
      "source": [
        "### Number of approaches to create an object of ndarray\n",
        "\n",
        "=>In numpy programming, we have 8 approaches to create an object of ndarray. They are\n",
        "\n",
        "\t\t1. array()\n",
        "\t\t2. arange()\n",
        "\t\t3. zeros()\n",
        "\t\t4. ones()\n",
        "\t\t5. full()\n",
        "\t\t6. identity()\n",
        "\t\t7. hstack()- horizontal stack\n",
        "\t\t8. vstack() -  vertical stack\n",
        "    9. random module"
      ],
      "metadata": {
        "id": "tjOuNY-51-AH"
      }
    },
    {
      "cell_type": "markdown",
      "source": [
        "### array() function\n",
        "=> it is used to convert traditional python obects into ndarray objects.\n",
        "\n",
        "syntax :- varname =  numpy.array(object,dtype)\n",
        "\n",
        " varname = is an object of < class,ndarray>\n",
        "\n",
        " object = traditional python object\n",
        "\n",
        " dtype = numpy data type such as int8,int16,int32,float16,float32,float64,...etc"
      ],
      "metadata": {
        "id": "iAbxKUIT2bPQ"
      }
    },
    {
      "cell_type": "code",
      "source": [
        "import numpy as np\n",
        "l1 =[10,20,30,40]\n",
        "print(l1,type(l1))"
      ],
      "metadata": {
        "colab": {
          "base_uri": "https://localhost:8080/"
        },
        "id": "7lO6fFqy2mNB",
        "outputId": "870ddcad-08f2-45e4-9e2c-6055c3c5c354"
      },
      "execution_count": 1,
      "outputs": [
        {
          "output_type": "stream",
          "name": "stdout",
          "text": [
            "[10, 20, 30, 40] <class 'list'>\n"
          ]
        }
      ]
    },
    {
      "cell_type": "code",
      "source": [
        "x = np.array(l1)\n",
        "print(x,type(x))"
      ],
      "metadata": {
        "colab": {
          "base_uri": "https://localhost:8080/"
        },
        "id": "s2FxSx6A3j9T",
        "outputId": "52f440d5-5113-4141-c55f-a71f22f3afd3"
      },
      "execution_count": 3,
      "outputs": [
        {
          "output_type": "stream",
          "name": "stdout",
          "text": [
            "[10 20 30 40] <class 'numpy.ndarray'>\n"
          ]
        }
      ]
    },
    {
      "cell_type": "code",
      "source": [
        "x.ndim"
      ],
      "metadata": {
        "colab": {
          "base_uri": "https://localhost:8080/"
        },
        "id": "VLSC-jlf3wT8",
        "outputId": "1fb484fb-d7da-4e48-f700-b9c2d47fac4d"
      },
      "execution_count": 4,
      "outputs": [
        {
          "output_type": "execute_result",
          "data": {
            "text/plain": [
              "1"
            ]
          },
          "metadata": {},
          "execution_count": 4
        }
      ]
    },
    {
      "cell_type": "code",
      "source": [
        "x.shape"
      ],
      "metadata": {
        "colab": {
          "base_uri": "https://localhost:8080/"
        },
        "id": "NEedxDGW36XY",
        "outputId": "ebdf7ccd-07d0-4a1e-ca1c-e017b6e1cb6f"
      },
      "execution_count": 5,
      "outputs": [
        {
          "output_type": "execute_result",
          "data": {
            "text/plain": [
              "(4,)"
            ]
          },
          "metadata": {},
          "execution_count": 5
        }
      ]
    },
    {
      "cell_type": "code",
      "source": [
        "t=(10,20,30,40,50,60,70)\n",
        "p"
      ],
      "metadata": {
        "id": "97AuL35q4Yqe"
      },
      "execution_count": null,
      "outputs": []
    }
  ]
}