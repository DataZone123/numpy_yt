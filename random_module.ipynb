{
  "nbformat": 4,
  "nbformat_minor": 0,
  "metadata": {
    "colab": {
      "provenance": [],
      "authorship_tag": "ABX9TyPa7zuNVA0bGyNyS1NAR5vq",
      "include_colab_link": true
    },
    "kernelspec": {
      "name": "python3",
      "display_name": "Python 3"
    },
    "language_info": {
      "name": "python"
    }
  },
  "cells": [
    {
      "cell_type": "markdown",
      "metadata": {
        "id": "view-in-github",
        "colab_type": "text"
      },
      "source": [
        "<a href=\"https://colab.research.google.com/github/DataZone123/numpy_yt/blob/main/random_module.ipynb\" target=\"_parent\"><img src=\"https://colab.research.google.com/assets/colab-badge.svg\" alt=\"Open In Colab\"/></a>"
      ]
    },
    {
      "cell_type": "markdown",
      "source": [
        "### **random module**\n",
        "=> random is one of the pre-defined module\n",
        "\n",
        "=> The purpose of this module is to generate randomized values.\n",
        "\n",
        "=> functions of random module:-\n",
        "*   randint()\n",
        "*   randrange()\n",
        "*   random()\n",
        "\n",
        "## 1. randint()\n",
        "syntax:- random.randint(start,stop)\n",
        "\n",
        " => This generates any random value between start and stop(including both)\n",
        "\n",
        " ## 2. randrange()\n",
        "\n",
        "=> syntax1:- random.randrange(val)\n",
        "\n",
        "=> this syntax generates random value from 0 to val-1.\n",
        "\n",
        "=> syntax2:- random.randrange(start,stop)\n",
        "\n",
        "=> this genrates any random value from start to stop-1(start included)\n",
        "\n",
        "=> syntax3:- random.randrange(start,stop,step)\n",
        "\n",
        "=>this genrates any random value from start to stop-1(start included),with jump over step value.\n",
        "\n",
        "\n",
        "## 3. random()\n",
        "\n",
        "syntax :- random.random()\n",
        "\n",
        "=> This syntax generates any random floating point(decimal) value b/w 0.0 to 1.0(both excluded).\n",
        "\n",
        "\n",
        "\n",
        "\n",
        "\n",
        "\n",
        "\n",
        "\n",
        "\n",
        "\n",
        "\n",
        "\n"
      ],
      "metadata": {
        "id": "1U2CY1CF9-wn"
      }
    },
    {
      "cell_type": "markdown",
      "source": [
        "## 1. randint()\n",
        "syntax:- random.randint(start,stop)\n",
        "\n",
        " => This generates any random value between start and stop(including both)\n",
        ""
      ],
      "metadata": {
        "id": "PEY7_DAuTpmK"
      }
    },
    {
      "cell_type": "code",
      "source": [
        "import random as x\n",
        "x.randint(1,9)"
      ],
      "metadata": {
        "colab": {
          "base_uri": "https://localhost:8080/"
        },
        "id": "4SQhLkwAVvoa",
        "outputId": "ea142cf9-ba30-4b17-bdd1-249db4daf282"
      },
      "execution_count": 36,
      "outputs": [
        {
          "output_type": "execute_result",
          "data": {
            "text/plain": [
              "8"
            ]
          },
          "metadata": {},
          "execution_count": 36
        }
      ]
    },
    {
      "cell_type": "code",
      "source": [
        "for i in range(1,4):\n",
        "  print(x.randint(1,9))"
      ],
      "metadata": {
        "colab": {
          "base_uri": "https://localhost:8080/"
        },
        "id": "DI4qPuHsV9pg",
        "outputId": "115cd864-903f-4b03-c293-16326d974628"
      },
      "execution_count": 41,
      "outputs": [
        {
          "output_type": "stream",
          "name": "stdout",
          "text": [
            "4\n",
            "9\n",
            "1\n"
          ]
        }
      ]
    },
    {
      "cell_type": "markdown",
      "source": [
        " ## 2. randrange()\n",
        "\n",
        "=> syntax1:- random.randrange(val)\n",
        "\n",
        "=> this syntax generates random value from 0 to val-1.\n",
        "\n",
        "=> syntax2:- random.randrange(start,stop)\n",
        "\n",
        "=> this genrates any random value from start to stop-1(start included)\n",
        "\n",
        "=> syntax3:- random.randrange(start,stop,step)\n",
        "\n",
        "=>this genrates any random value from start to stop-1(start included),with jump over step value."
      ],
      "metadata": {
        "id": "JjNW0AhSWQAx"
      }
    },
    {
      "cell_type": "code",
      "source": [
        "import random as r\n",
        "r.randrange(5)"
      ],
      "metadata": {
        "colab": {
          "base_uri": "https://localhost:8080/"
        },
        "id": "2S-uGRrUWgw_",
        "outputId": "b2db63bd-728d-4360-8616-dc630a746ce7"
      },
      "execution_count": 48,
      "outputs": [
        {
          "output_type": "execute_result",
          "data": {
            "text/plain": [
              "1"
            ]
          },
          "metadata": {},
          "execution_count": 48
        }
      ]
    },
    {
      "cell_type": "code",
      "source": [
        "r.randrange(10,15)"
      ],
      "metadata": {
        "colab": {
          "base_uri": "https://localhost:8080/"
        },
        "id": "YadnaV75WsxX",
        "outputId": "26d1be7a-0e81-4032-b600-9794e5f08cee"
      },
      "execution_count": 54,
      "outputs": [
        {
          "output_type": "execute_result",
          "data": {
            "text/plain": [
              "10"
            ]
          },
          "metadata": {},
          "execution_count": 54
        }
      ]
    },
    {
      "cell_type": "code",
      "source": [
        "for i in range(1,10):\n",
        "  print(r.randrange(5))"
      ],
      "metadata": {
        "colab": {
          "base_uri": "https://localhost:8080/"
        },
        "id": "kpPMv_goW-Np",
        "outputId": "cab1045f-b547-4b2b-f370-17d53696fa6b"
      },
      "execution_count": 55,
      "outputs": [
        {
          "output_type": "stream",
          "name": "stdout",
          "text": [
            "3\n",
            "3\n",
            "1\n",
            "4\n",
            "1\n",
            "0\n",
            "4\n",
            "2\n",
            "1\n"
          ]
        }
      ]
    },
    {
      "cell_type": "code",
      "source": [
        "for i in range(1,10):\n",
        "  print(r.randrange(100,200))"
      ],
      "metadata": {
        "colab": {
          "base_uri": "https://localhost:8080/"
        },
        "id": "RoA1Ut0cXOS4",
        "outputId": "825e035b-d40b-4e30-f3c0-47689ed5151e"
      },
      "execution_count": 58,
      "outputs": [
        {
          "output_type": "stream",
          "name": "stdout",
          "text": [
            "110\n",
            "149\n",
            "195\n",
            "109\n",
            "172\n",
            "114\n",
            "198\n",
            "141\n",
            "193\n"
          ]
        }
      ]
    },
    {
      "cell_type": "code",
      "source": [
        "r.randrange(10,20,5)"
      ],
      "metadata": {
        "colab": {
          "base_uri": "https://localhost:8080/"
        },
        "id": "VDpKX0gzXc6g",
        "outputId": "d33ff313-33be-432d-d99c-3c38ed81a7d1"
      },
      "execution_count": 71,
      "outputs": [
        {
          "output_type": "execute_result",
          "data": {
            "text/plain": [
              "15"
            ]
          },
          "metadata": {},
          "execution_count": 71
        }
      ]
    },
    {
      "cell_type": "code",
      "source": [
        "for i in range(1,4):\n",
        "  print(r.randrange(10,20,2))"
      ],
      "metadata": {
        "colab": {
          "base_uri": "https://localhost:8080/"
        },
        "id": "PhgUTW3ZXl73",
        "outputId": "163d7608-c9f0-4a54-ed4d-dac587b609a8"
      },
      "execution_count": 77,
      "outputs": [
        {
          "output_type": "stream",
          "name": "stdout",
          "text": [
            "12\n",
            "18\n",
            "14\n"
          ]
        }
      ]
    },
    {
      "cell_type": "markdown",
      "source": [
        "## 3. random()\n",
        "\n",
        "syntax :- random.random()\n",
        "\n",
        "=> This syntax generates any random floating point(decimal) value b/w 0.0 to 1.0(both excluded)."
      ],
      "metadata": {
        "id": "kC_umpA0X2g_"
      }
    },
    {
      "cell_type": "code",
      "source": [
        "import random as r\n",
        "r.random()"
      ],
      "metadata": {
        "colab": {
          "base_uri": "https://localhost:8080/"
        },
        "id": "eNm1PJEjYCqw",
        "outputId": "3b38e3af-0e26-4b43-cfbe-771f8fc0de98"
      },
      "execution_count": 83,
      "outputs": [
        {
          "output_type": "execute_result",
          "data": {
            "text/plain": [
              "0.8108085261775079"
            ]
          },
          "metadata": {},
          "execution_count": 83
        }
      ]
    },
    {
      "cell_type": "code",
      "source": [
        "print(\"%0.2f\" %r.random())"
      ],
      "metadata": {
        "colab": {
          "base_uri": "https://localhost:8080/"
        },
        "id": "hYi3YcTgYNd3",
        "outputId": "b352ddde-1b9b-478d-bd58-cf6d7fc6007b"
      },
      "execution_count": 84,
      "outputs": [
        {
          "output_type": "stream",
          "name": "stdout",
          "text": [
            "0.38\n"
          ]
        }
      ]
    },
    {
      "cell_type": "code",
      "source": [
        "for i in range(1,6):\n",
        "  print(round(r.random(),2))"
      ],
      "metadata": {
        "colab": {
          "base_uri": "https://localhost:8080/"
        },
        "id": "RJcXcgflYadt",
        "outputId": "27f25f44-5d41-4a9f-94f8-97502d598f67"
      },
      "execution_count": 89,
      "outputs": [
        {
          "output_type": "stream",
          "name": "stdout",
          "text": [
            "0.18\n",
            "0.2\n",
            "0.93\n",
            "0.54\n",
            "0.47\n"
          ]
        }
      ]
    },
    {
      "cell_type": "code",
      "source": [],
      "metadata": {
        "id": "qZ6VM1qkYqj_"
      },
      "execution_count": null,
      "outputs": []
    }
  ]
}